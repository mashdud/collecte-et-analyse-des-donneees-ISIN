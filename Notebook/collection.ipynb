{
 "cells": [
  {
   "cell_type": "code",
   "execution_count": 3,
   "metadata": {},
   "outputs": [],
   "source": [
    "import requests\n",
    "from bs4 import BeautifulSoup\n",
    "import pandas as pd\n",
    "import numpy as np\n",
    "import json\n",
    "import csv\n",
    "import time\n",
    "import logging\n",
    "from typing import List, Dict, Optional, Tuple\n",
    "from urllib.parse import urljoin, urlparse, parse_qs\n",
    "import re\n",
    "from datetime import datetime, timedelta\n",
    "\n",
    "\n"
   ]
  },
  {
   "cell_type": "code",
   "execution_count": 1,
   "metadata": {},
   "outputs": [],
   "source": [
    "import requests\n",
    "import pandas as pd\n",
    "from datetime import datetime\n",
    "\n",
    "\n",
    "\n",
    "url = \"https://www.justetf.com/api/etfs/IE0002XZSHO1/performance-chart?locale=fr&currency=EUR&valuesType=RELATIVE_CHANGE&reduceData=false&includeDividends=true&features=DIVIDENDS&dateFrom=2025-04-23&dateTo=2025-05-23\"\n",
    "\n",
    "headers = {\n",
    "    \"User-Agent\": \"Mozilla/5.0\"\n",
    "}\n",
    "\n",
    "response = requests.get(url, headers=headers)\n",
    "data = response.json()\n",
    "\n"
   ]
  },
  {
   "cell_type": "code",
   "execution_count": 2,
   "metadata": {},
   "outputs": [
    {
     "data": {
      "text/plain": [
       "{'latestQuote': {'raw': 5.38, 'localized': '5,38'},\n",
       " 'latestQuoteDate': '2025-05-23',\n",
       " 'price': {'raw': 5.38, 'localized': '5,38'},\n",
       " 'performance': {'raw': 7.82, 'localized': '7,82'},\n",
       " 'prevDaySeries': [],\n",
       " 'series': [{'date': '2025-04-23', 'value': {'raw': 0.0, 'localized': '0,00'}},\n",
       "  {'date': '2025-04-24', 'value': {'raw': 1.4, 'localized': '1,40'}},\n",
       "  {'date': '2025-04-25', 'value': {'raw': 2.2, 'localized': '2,20'}},\n",
       "  {'date': '2025-04-26', 'value': {'raw': 2.2, 'localized': '2,20'}},\n",
       "  {'date': '2025-04-27', 'value': {'raw': 2.2, 'localized': '2,20'}},\n",
       "  {'date': '2025-04-28', 'value': {'raw': 2.4, 'localized': '2,40'}},\n",
       "  {'date': '2025-04-29', 'value': {'raw': 2.81, 'localized': '2,81'}},\n",
       "  {'date': '2025-04-30', 'value': {'raw': 3.21, 'localized': '3,21'}},\n",
       "  {'date': '2025-05-01', 'value': {'raw': 3.21, 'localized': '3,21'}},\n",
       "  {'date': '2025-05-02', 'value': {'raw': 5.21, 'localized': '5,21'}},\n",
       "  {'date': '2025-05-03', 'value': {'raw': 5.21, 'localized': '5,21'}},\n",
       "  {'date': '2025-05-04', 'value': {'raw': 5.21, 'localized': '5,21'}},\n",
       "  {'date': '2025-05-05', 'value': {'raw': 5.21, 'localized': '5,21'}},\n",
       "  {'date': '2025-05-06', 'value': {'raw': 4.41, 'localized': '4,41'}},\n",
       "  {'date': '2025-05-07', 'value': {'raw': 4.41, 'localized': '4,41'}},\n",
       "  {'date': '2025-05-08', 'value': {'raw': 5.61, 'localized': '5,61'}},\n",
       "  {'date': '2025-05-09', 'value': {'raw': 5.81, 'localized': '5,81'}},\n",
       "  {'date': '2025-05-10', 'value': {'raw': 5.81, 'localized': '5,81'}},\n",
       "  {'date': '2025-05-11', 'value': {'raw': 5.81, 'localized': '5,81'}},\n",
       "  {'date': '2025-05-12', 'value': {'raw': 9.62, 'localized': '9,62'}},\n",
       "  {'date': '2025-05-13', 'value': {'raw': 10.02, 'localized': '10,02'}},\n",
       "  {'date': '2025-05-14', 'value': {'raw': 9.82, 'localized': '9,82'}},\n",
       "  {'date': '2025-05-15', 'value': {'raw': 10.42, 'localized': '10,42'}},\n",
       "  {'date': '2025-05-16', 'value': {'raw': 11.42, 'localized': '11,42'}},\n",
       "  {'date': '2025-05-17', 'value': {'raw': 11.42, 'localized': '11,42'}},\n",
       "  {'date': '2025-05-18', 'value': {'raw': 11.42, 'localized': '11,42'}},\n",
       "  {'date': '2025-05-19', 'value': {'raw': 10.62, 'localized': '10,62'}},\n",
       "  {'date': '2025-05-20', 'value': {'raw': 10.42, 'localized': '10,42'}},\n",
       "  {'date': '2025-05-21', 'value': {'raw': 8.62, 'localized': '8,62'}},\n",
       "  {'date': '2025-05-22', 'value': {'raw': 8.82, 'localized': '8,82'}},\n",
       "  {'date': '2025-05-23', 'value': {'raw': 7.82, 'localized': '7,82'}}],\n",
       " 'latestDate': '2025-05-23',\n",
       " 'endOfDay': '2025-05-23T21:00:00Z',\n",
       " 'features': {'DIVIDENDS': []}}"
      ]
     },
     "execution_count": 2,
     "metadata": {},
     "output_type": "execute_result"
    }
   ],
   "source": [
    "data"
   ]
  },
  {
   "cell_type": "code",
   "execution_count": null,
   "metadata": {},
   "outputs": [],
   "source": []
  }
 ],
 "metadata": {
  "kernelspec": {
   "display_name": "venv5",
   "language": "python",
   "name": "python3"
  },
  "language_info": {
   "codemirror_mode": {
    "name": "ipython",
    "version": 3
   },
   "file_extension": ".py",
   "mimetype": "text/x-python",
   "name": "python",
   "nbconvert_exporter": "python",
   "pygments_lexer": "ipython3",
   "version": "3.10.2"
  }
 },
 "nbformat": 4,
 "nbformat_minor": 2
}
